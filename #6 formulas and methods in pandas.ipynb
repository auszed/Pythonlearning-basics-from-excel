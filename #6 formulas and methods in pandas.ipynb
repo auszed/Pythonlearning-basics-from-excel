{
 "cells": [
  {
   "cell_type": "markdown",
   "id": "89e050e0-3264-47a8-a56c-646a04248a4a",
   "metadata": {},
   "source": [
    "# importing data"
   ]
  },
  {
   "cell_type": "code",
   "execution_count": 3,
   "id": "01cf7de4-1167-4abc-8cbb-c44b2ae0a237",
   "metadata": {},
   "outputs": [],
   "source": [
    "# import pandas\n",
    "import pandas as pd\n",
    "# import numpy\n",
    "import numpy as np"
   ]
  },
  {
   "cell_type": "code",
   "execution_count": 8,
   "id": "b04932de-bc5b-4dd3-b476-28b9561e5ddc",
   "metadata": {},
   "outputs": [
    {
     "name": "stderr",
     "output_type": "stream",
     "text": [
      "C:\\Users\\hanns\\anaconda3\\lib\\site-packages\\IPython\\core\\interactiveshell.py:3444: DtypeWarning: Columns (0) have mixed types.Specify dtype option on import or set low_memory=False.\n",
      "  exec(code_obj, self.user_global_ns, self.user_ns)\n"
     ]
    },
    {
     "data": {
      "text/html": [
       "<div>\n",
       "<style scoped>\n",
       "    .dataframe tbody tr th:only-of-type {\n",
       "        vertical-align: middle;\n",
       "    }\n",
       "\n",
       "    .dataframe tbody tr th {\n",
       "        vertical-align: top;\n",
       "    }\n",
       "\n",
       "    .dataframe thead th {\n",
       "        text-align: right;\n",
       "    }\n",
       "</style>\n",
       "<table border=\"1\" class=\"dataframe\">\n",
       "  <thead>\n",
       "    <tr style=\"text-align: right;\">\n",
       "      <th></th>\n",
       "      <th>order_id</th>\n",
       "      <th>order_date</th>\n",
       "      <th>status</th>\n",
       "      <th>item_id</th>\n",
       "      <th>sku</th>\n",
       "      <th>qty_ordered</th>\n",
       "      <th>price</th>\n",
       "      <th>value</th>\n",
       "      <th>discount_amount</th>\n",
       "      <th>total</th>\n",
       "      <th>...</th>\n",
       "      <th>SSN</th>\n",
       "      <th>Phone No.</th>\n",
       "      <th>Place Name</th>\n",
       "      <th>County</th>\n",
       "      <th>City</th>\n",
       "      <th>State</th>\n",
       "      <th>Zip</th>\n",
       "      <th>Region</th>\n",
       "      <th>User Name</th>\n",
       "      <th>Discount_Percent</th>\n",
       "    </tr>\n",
       "  </thead>\n",
       "  <tbody>\n",
       "    <tr>\n",
       "      <th>0</th>\n",
       "      <td>100354678</td>\n",
       "      <td>2020-10-01</td>\n",
       "      <td>received</td>\n",
       "      <td>574772.0</td>\n",
       "      <td>oasis_Oasis-064-36</td>\n",
       "      <td>21.0</td>\n",
       "      <td>89.9</td>\n",
       "      <td>1798.0</td>\n",
       "      <td>0.0</td>\n",
       "      <td>1798.0</td>\n",
       "      <td>...</td>\n",
       "      <td>627-31-5251</td>\n",
       "      <td>405-959-1129</td>\n",
       "      <td>Vinson</td>\n",
       "      <td>Harmon</td>\n",
       "      <td>Vinson</td>\n",
       "      <td>OK</td>\n",
       "      <td>73571</td>\n",
       "      <td>South</td>\n",
       "      <td>jwtitus</td>\n",
       "      <td>0.0</td>\n",
       "    </tr>\n",
       "    <tr>\n",
       "      <th>1</th>\n",
       "      <td>100354678</td>\n",
       "      <td>2020-10-01</td>\n",
       "      <td>received</td>\n",
       "      <td>574774.0</td>\n",
       "      <td>Fantastic_FT-48</td>\n",
       "      <td>11.0</td>\n",
       "      <td>19.0</td>\n",
       "      <td>190.0</td>\n",
       "      <td>0.0</td>\n",
       "      <td>190.0</td>\n",
       "      <td>...</td>\n",
       "      <td>627-31-5251</td>\n",
       "      <td>405-959-1129</td>\n",
       "      <td>Vinson</td>\n",
       "      <td>Harmon</td>\n",
       "      <td>Vinson</td>\n",
       "      <td>OK</td>\n",
       "      <td>73571</td>\n",
       "      <td>South</td>\n",
       "      <td>jwtitus</td>\n",
       "      <td>0.0</td>\n",
       "    </tr>\n",
       "    <tr>\n",
       "      <th>2</th>\n",
       "      <td>100354680</td>\n",
       "      <td>2020-10-01</td>\n",
       "      <td>complete</td>\n",
       "      <td>574777.0</td>\n",
       "      <td>mdeal_DMC-610-8</td>\n",
       "      <td>9.0</td>\n",
       "      <td>149.9</td>\n",
       "      <td>1199.2</td>\n",
       "      <td>0.0</td>\n",
       "      <td>1199.2</td>\n",
       "      <td>...</td>\n",
       "      <td>627-31-5251</td>\n",
       "      <td>405-959-1129</td>\n",
       "      <td>Vinson</td>\n",
       "      <td>Harmon</td>\n",
       "      <td>Vinson</td>\n",
       "      <td>OK</td>\n",
       "      <td>73571</td>\n",
       "      <td>South</td>\n",
       "      <td>jwtitus</td>\n",
       "      <td>0.0</td>\n",
       "    </tr>\n",
       "    <tr>\n",
       "      <th>3</th>\n",
       "      <td>100354680</td>\n",
       "      <td>2020-10-01</td>\n",
       "      <td>complete</td>\n",
       "      <td>574779.0</td>\n",
       "      <td>oasis_Oasis-061-36</td>\n",
       "      <td>9.0</td>\n",
       "      <td>79.9</td>\n",
       "      <td>639.2</td>\n",
       "      <td>0.0</td>\n",
       "      <td>639.2</td>\n",
       "      <td>...</td>\n",
       "      <td>627-31-5251</td>\n",
       "      <td>405-959-1129</td>\n",
       "      <td>Vinson</td>\n",
       "      <td>Harmon</td>\n",
       "      <td>Vinson</td>\n",
       "      <td>OK</td>\n",
       "      <td>73571</td>\n",
       "      <td>South</td>\n",
       "      <td>jwtitus</td>\n",
       "      <td>0.0</td>\n",
       "    </tr>\n",
       "    <tr>\n",
       "      <th>4</th>\n",
       "      <td>100367357</td>\n",
       "      <td>2020-11-13</td>\n",
       "      <td>received</td>\n",
       "      <td>595185.0</td>\n",
       "      <td>MEFNAR59C38B6CA08CD</td>\n",
       "      <td>2.0</td>\n",
       "      <td>99.9</td>\n",
       "      <td>99.9</td>\n",
       "      <td>0.0</td>\n",
       "      <td>99.9</td>\n",
       "      <td>...</td>\n",
       "      <td>627-31-5251</td>\n",
       "      <td>405-959-1129</td>\n",
       "      <td>Vinson</td>\n",
       "      <td>Harmon</td>\n",
       "      <td>Vinson</td>\n",
       "      <td>OK</td>\n",
       "      <td>73571</td>\n",
       "      <td>South</td>\n",
       "      <td>jwtitus</td>\n",
       "      <td>0.0</td>\n",
       "    </tr>\n",
       "  </tbody>\n",
       "</table>\n",
       "<p>5 rows × 36 columns</p>\n",
       "</div>"
      ],
      "text/plain": [
       "    order_id  order_date    status   item_id                  sku  \\\n",
       "0  100354678  2020-10-01  received  574772.0   oasis_Oasis-064-36   \n",
       "1  100354678  2020-10-01  received  574774.0      Fantastic_FT-48   \n",
       "2  100354680  2020-10-01  complete  574777.0      mdeal_DMC-610-8   \n",
       "3  100354680  2020-10-01  complete  574779.0   oasis_Oasis-061-36   \n",
       "4  100367357  2020-11-13  received  595185.0  MEFNAR59C38B6CA08CD   \n",
       "\n",
       "   qty_ordered  price   value  discount_amount   total  ...          SSN  \\\n",
       "0         21.0   89.9  1798.0              0.0  1798.0  ...  627-31-5251   \n",
       "1         11.0   19.0   190.0              0.0   190.0  ...  627-31-5251   \n",
       "2          9.0  149.9  1199.2              0.0  1199.2  ...  627-31-5251   \n",
       "3          9.0   79.9   639.2              0.0   639.2  ...  627-31-5251   \n",
       "4          2.0   99.9    99.9              0.0    99.9  ...  627-31-5251   \n",
       "\n",
       "     Phone No.  Place Name  County    City State    Zip Region User Name  \\\n",
       "0  405-959-1129     Vinson  Harmon  Vinson    OK  73571  South   jwtitus   \n",
       "1  405-959-1129     Vinson  Harmon  Vinson    OK  73571  South   jwtitus   \n",
       "2  405-959-1129     Vinson  Harmon  Vinson    OK  73571  South   jwtitus   \n",
       "3  405-959-1129     Vinson  Harmon  Vinson    OK  73571  South   jwtitus   \n",
       "4  405-959-1129     Vinson  Harmon  Vinson    OK  73571  South   jwtitus   \n",
       "\n",
       "  Discount_Percent  \n",
       "0              0.0  \n",
       "1              0.0  \n",
       "2              0.0  \n",
       "3              0.0  \n",
       "4              0.0  \n",
       "\n",
       "[5 rows x 36 columns]"
      ]
     },
     "execution_count": 8,
     "metadata": {},
     "output_type": "execute_result"
    }
   ],
   "source": [
    "# reading the csv file\n",
    "df_exams = pd.read_csv('sales.csv')\n",
    "df_exams.head()"
   ]
  },
  {
   "cell_type": "code",
   "execution_count": 9,
   "id": "f874ec18-58a6-4891-b3af-829f9a0af4b6",
   "metadata": {},
   "outputs": [
    {
     "data": {
      "text/plain": [
       "order_id             object\n",
       "order_date           object\n",
       "status               object\n",
       "item_id             float64\n",
       "sku                  object\n",
       "qty_ordered         float64\n",
       "price               float64\n",
       "value               float64\n",
       "discount_amount     float64\n",
       "total               float64\n",
       "category             object\n",
       "payment_method       object\n",
       "bi_st                object\n",
       "cust_id             float64\n",
       "year                  int64\n",
       "month                object\n",
       "ref_num               int64\n",
       "Name Prefix          object\n",
       "First Name           object\n",
       "Middle Initial       object\n",
       "Last Name            object\n",
       "Gender               object\n",
       "age                 float64\n",
       "full_name            object\n",
       "E Mail               object\n",
       "Customer Since       object\n",
       "SSN                  object\n",
       "Phone No.            object\n",
       "Place Name           object\n",
       "County               object\n",
       "City                 object\n",
       "State                object\n",
       "Zip                   int64\n",
       "Region               object\n",
       "User Name            object\n",
       "Discount_Percent    float64\n",
       "dtype: object"
      ]
     },
     "execution_count": 9,
     "metadata": {},
     "output_type": "execute_result"
    }
   ],
   "source": [
    "df_exams.dtypes"
   ]
  },
  {
   "cell_type": "markdown",
   "id": "3be9ed6c-38b3-43e0-a17a-5704108ab655",
   "metadata": {
    "tags": []
   },
   "source": [
    "# Math Operations on Dataframes"
   ]
  },
  {
   "cell_type": "markdown",
   "id": "60699a41-f7be-43dc-b533-ff53db115d3e",
   "metadata": {},
   "source": [
    "### Operations in columns"
   ]
  },
  {
   "cell_type": "code",
   "execution_count": 23,
   "id": "814f74ca-04a5-482b-9ead-79727e0c5f30",
   "metadata": {},
   "outputs": [
    {
     "data": {
      "text/plain": [
       "1983.580302152569"
      ]
     },
     "execution_count": 23,
     "metadata": {},
     "output_type": "execute_result"
    }
   ],
   "source": [
    "# This will get only tha last number\n",
    "df_exams['total'].count()\n",
    "df_exams['total'].mean()\n",
    "\n",
    "df_exams['total'].max()\n",
    "df_exams['total'].min()\n",
    "df_exams['total'].std()"
   ]
  },
  {
   "cell_type": "code",
   "execution_count": 10,
   "id": "52614855-21fd-417e-97e8-8a9a424f48af",
   "metadata": {},
   "outputs": [
    {
     "data": {
      "text/plain": [
       "233650194.43208995"
      ]
     },
     "execution_count": 10,
     "metadata": {},
     "output_type": "execute_result"
    }
   ],
   "source": [
    "# select a column and calculate total sum\n",
    "df_exams['total'].sum()"
   ]
  },
  {
   "cell_type": "code",
   "execution_count": 14,
   "id": "4dfa80e5-1d0c-485c-bb8a-9715e6b60d0d",
   "metadata": {},
   "outputs": [
    {
     "data": {
      "text/plain": [
       "286392"
      ]
     },
     "execution_count": 14,
     "metadata": {},
     "output_type": "execute_result"
    }
   ],
   "source": [
    "# count, mean, std, max, and min\n",
    "df_exams['total'].count()"
   ]
  },
  {
   "cell_type": "code",
   "execution_count": 15,
   "id": "f72a7cac-461e-41db-a401-f53012d35c9d",
   "metadata": {},
   "outputs": [
    {
     "data": {
      "text/plain": [
       "815.8405068306274"
      ]
     },
     "execution_count": 15,
     "metadata": {},
     "output_type": "execute_result"
    }
   ],
   "source": [
    "df_exams['total'].mean()"
   ]
  },
  {
   "cell_type": "code",
   "execution_count": 16,
   "id": "de43eb74-4f28-45a1-9553-d3018d016777",
   "metadata": {},
   "outputs": [
    {
     "data": {
      "text/plain": [
       "1983.580302152569"
      ]
     },
     "execution_count": 16,
     "metadata": {},
     "output_type": "execute_result"
    }
   ],
   "source": [
    "df_exams['total'].std()"
   ]
  },
  {
   "cell_type": "code",
   "execution_count": 17,
   "id": "99542a4f-7496-45f8-a2ca-592eceed5b5b",
   "metadata": {},
   "outputs": [
    {
     "data": {
      "text/plain": [
       "101262.59"
      ]
     },
     "execution_count": 17,
     "metadata": {},
     "output_type": "execute_result"
    }
   ],
   "source": [
    "df_exams['total'].max()"
   ]
  },
  {
   "cell_type": "code",
   "execution_count": 18,
   "id": "dcf72c02-1b0d-48a6-81e7-d6dbaec0029c",
   "metadata": {},
   "outputs": [
    {
     "data": {
      "text/plain": [
       "0.0"
      ]
     },
     "execution_count": 18,
     "metadata": {},
     "output_type": "execute_result"
    }
   ],
   "source": [
    "df_exams['total'].min()"
   ]
  },
  {
   "cell_type": "markdown",
   "id": "b2cabf0c-ba78-49fa-a07c-762513513cfc",
   "metadata": {},
   "source": [
    "here we calculate all the values all summarize in one table"
   ]
  },
  {
   "cell_type": "code",
   "execution_count": 19,
   "id": "827ab5a6-b0d4-4723-87d4-b87a493e0e69",
   "metadata": {},
   "outputs": [
    {
     "data": {
      "text/html": [
       "<div>\n",
       "<style scoped>\n",
       "    .dataframe tbody tr th:only-of-type {\n",
       "        vertical-align: middle;\n",
       "    }\n",
       "\n",
       "    .dataframe tbody tr th {\n",
       "        vertical-align: top;\n",
       "    }\n",
       "\n",
       "    .dataframe thead th {\n",
       "        text-align: right;\n",
       "    }\n",
       "</style>\n",
       "<table border=\"1\" class=\"dataframe\">\n",
       "  <thead>\n",
       "    <tr style=\"text-align: right;\">\n",
       "      <th></th>\n",
       "      <th>item_id</th>\n",
       "      <th>qty_ordered</th>\n",
       "      <th>price</th>\n",
       "      <th>value</th>\n",
       "      <th>discount_amount</th>\n",
       "      <th>total</th>\n",
       "      <th>cust_id</th>\n",
       "      <th>year</th>\n",
       "      <th>ref_num</th>\n",
       "      <th>age</th>\n",
       "      <th>Zip</th>\n",
       "      <th>Discount_Percent</th>\n",
       "    </tr>\n",
       "  </thead>\n",
       "  <tbody>\n",
       "    <tr>\n",
       "      <th>count</th>\n",
       "      <td>286392.000000</td>\n",
       "      <td>286392.000000</td>\n",
       "      <td>286392.000000</td>\n",
       "      <td>286392.000000</td>\n",
       "      <td>286392.000000</td>\n",
       "      <td>286392.000000</td>\n",
       "      <td>286392.000000</td>\n",
       "      <td>286392.000000</td>\n",
       "      <td>286392.000000</td>\n",
       "      <td>286392.000000</td>\n",
       "      <td>286392.000000</td>\n",
       "      <td>286392.000000</td>\n",
       "    </tr>\n",
       "    <tr>\n",
       "      <th>mean</th>\n",
       "      <td>741664.902131</td>\n",
       "      <td>3.011296</td>\n",
       "      <td>851.385253</td>\n",
       "      <td>885.879934</td>\n",
       "      <td>70.039427</td>\n",
       "      <td>815.840507</td>\n",
       "      <td>70048.019054</td>\n",
       "      <td>2020.618778</td>\n",
       "      <td>560853.663395</td>\n",
       "      <td>46.489033</td>\n",
       "      <td>49723.160015</td>\n",
       "      <td>6.069079</td>\n",
       "    </tr>\n",
       "    <tr>\n",
       "      <th>std</th>\n",
       "      <td>95746.031827</td>\n",
       "      <td>4.573837</td>\n",
       "      <td>1741.750751</td>\n",
       "      <td>2073.252179</td>\n",
       "      <td>256.880870</td>\n",
       "      <td>1983.580302</td>\n",
       "      <td>30243.856395</td>\n",
       "      <td>0.485688</td>\n",
       "      <td>255828.418398</td>\n",
       "      <td>16.673288</td>\n",
       "      <td>27597.198873</td>\n",
       "      <td>10.100100</td>\n",
       "    </tr>\n",
       "    <tr>\n",
       "      <th>min</th>\n",
       "      <td>574769.000000</td>\n",
       "      <td>1.000000</td>\n",
       "      <td>0.000000</td>\n",
       "      <td>0.000000</td>\n",
       "      <td>0.000000</td>\n",
       "      <td>0.000000</td>\n",
       "      <td>4.000000</td>\n",
       "      <td>2020.000000</td>\n",
       "      <td>111127.000000</td>\n",
       "      <td>18.000000</td>\n",
       "      <td>210.000000</td>\n",
       "      <td>0.000000</td>\n",
       "    </tr>\n",
       "    <tr>\n",
       "      <th>25%</th>\n",
       "      <td>659684.500000</td>\n",
       "      <td>2.000000</td>\n",
       "      <td>49.900000</td>\n",
       "      <td>49.900000</td>\n",
       "      <td>0.000000</td>\n",
       "      <td>49.900000</td>\n",
       "      <td>56519.000000</td>\n",
       "      <td>2020.000000</td>\n",
       "      <td>341265.000000</td>\n",
       "      <td>32.000000</td>\n",
       "      <td>26571.750000</td>\n",
       "      <td>0.000000</td>\n",
       "    </tr>\n",
       "    <tr>\n",
       "      <th>50%</th>\n",
       "      <td>742309.000000</td>\n",
       "      <td>2.000000</td>\n",
       "      <td>119.000000</td>\n",
       "      <td>158.970000</td>\n",
       "      <td>0.000000</td>\n",
       "      <td>149.800000</td>\n",
       "      <td>74225.500000</td>\n",
       "      <td>2021.000000</td>\n",
       "      <td>564857.000000</td>\n",
       "      <td>47.000000</td>\n",
       "      <td>49316.000000</td>\n",
       "      <td>0.000000</td>\n",
       "    </tr>\n",
       "    <tr>\n",
       "      <th>75%</th>\n",
       "      <td>826124.250000</td>\n",
       "      <td>3.000000</td>\n",
       "      <td>950.000000</td>\n",
       "      <td>910.000000</td>\n",
       "      <td>18.383050</td>\n",
       "      <td>800.000000</td>\n",
       "      <td>92357.000000</td>\n",
       "      <td>2021.000000</td>\n",
       "      <td>781086.000000</td>\n",
       "      <td>61.000000</td>\n",
       "      <td>72645.000000</td>\n",
       "      <td>11.000000</td>\n",
       "    </tr>\n",
       "    <tr>\n",
       "      <th>max</th>\n",
       "      <td>905208.000000</td>\n",
       "      <td>501.000000</td>\n",
       "      <td>101262.590000</td>\n",
       "      <td>101262.590000</td>\n",
       "      <td>30213.150000</td>\n",
       "      <td>101262.590000</td>\n",
       "      <td>115326.000000</td>\n",
       "      <td>2021.000000</td>\n",
       "      <td>999981.000000</td>\n",
       "      <td>75.000000</td>\n",
       "      <td>99950.000000</td>\n",
       "      <td>75.000000</td>\n",
       "    </tr>\n",
       "  </tbody>\n",
       "</table>\n",
       "</div>"
      ],
      "text/plain": [
       "             item_id    qty_ordered          price          value  \\\n",
       "count  286392.000000  286392.000000  286392.000000  286392.000000   \n",
       "mean   741664.902131       3.011296     851.385253     885.879934   \n",
       "std     95746.031827       4.573837    1741.750751    2073.252179   \n",
       "min    574769.000000       1.000000       0.000000       0.000000   \n",
       "25%    659684.500000       2.000000      49.900000      49.900000   \n",
       "50%    742309.000000       2.000000     119.000000     158.970000   \n",
       "75%    826124.250000       3.000000     950.000000     910.000000   \n",
       "max    905208.000000     501.000000  101262.590000  101262.590000   \n",
       "\n",
       "       discount_amount          total        cust_id           year  \\\n",
       "count    286392.000000  286392.000000  286392.000000  286392.000000   \n",
       "mean         70.039427     815.840507   70048.019054    2020.618778   \n",
       "std         256.880870    1983.580302   30243.856395       0.485688   \n",
       "min           0.000000       0.000000       4.000000    2020.000000   \n",
       "25%           0.000000      49.900000   56519.000000    2020.000000   \n",
       "50%           0.000000     149.800000   74225.500000    2021.000000   \n",
       "75%          18.383050     800.000000   92357.000000    2021.000000   \n",
       "max       30213.150000  101262.590000  115326.000000    2021.000000   \n",
       "\n",
       "             ref_num            age            Zip  Discount_Percent  \n",
       "count  286392.000000  286392.000000  286392.000000     286392.000000  \n",
       "mean   560853.663395      46.489033   49723.160015          6.069079  \n",
       "std    255828.418398      16.673288   27597.198873         10.100100  \n",
       "min    111127.000000      18.000000     210.000000          0.000000  \n",
       "25%    341265.000000      32.000000   26571.750000          0.000000  \n",
       "50%    564857.000000      47.000000   49316.000000          0.000000  \n",
       "75%    781086.000000      61.000000   72645.000000         11.000000  \n",
       "max    999981.000000      75.000000   99950.000000         75.000000  "
      ]
     },
     "execution_count": 19,
     "metadata": {},
     "output_type": "execute_result"
    }
   ],
   "source": [
    "# easier calculation with .describe()\n",
    "df_exams.describe()"
   ]
  },
  {
   "cell_type": "markdown",
   "id": "8378a5be-6701-4cd1-b9c1-e8016e72b888",
   "metadata": {},
   "source": [
    "### Operations in rows"
   ]
  },
  {
   "cell_type": "code",
   "execution_count": 24,
   "id": "f6dc435f-1c2a-4ec2-a833-eb6e52e769b2",
   "metadata": {},
   "outputs": [
    {
     "data": {
      "text/plain": [
       "0         1887.9\n",
       "1          209.0\n",
       "2         1349.1\n",
       "3          719.1\n",
       "4          199.8\n",
       "           ...  \n",
       "286387    8839.8\n",
       "286388      79.8\n",
       "286389      80.0\n",
       "286390      99.8\n",
       "286391    7119.8\n",
       "Length: 286392, dtype: float64"
      ]
     },
     "execution_count": 24,
     "metadata": {},
     "output_type": "execute_result"
    }
   ],
   "source": [
    "# calculating the sum in a row\n",
    "df_exams['qty_ordered'] * df_exams['price']"
   ]
  },
  {
   "cell_type": "code",
   "execution_count": 25,
   "id": "7cca0b23-475f-4eb0-ab06-deb5dfd3bc0b",
   "metadata": {},
   "outputs": [],
   "source": [
    "# calculating the average score and assigning the result to a new column\n",
    "df_exams['average'] = (df_exams['value'] + df_exams['price'] + df_exams['qty_ordered'])/3"
   ]
  },
  {
   "cell_type": "markdown",
   "id": "9e5ef440-f675-4cd2-a65f-aff40c778521",
   "metadata": {},
   "source": [
    "but only one column with round numbers and a header"
   ]
  },
  {
   "cell_type": "code",
   "execution_count": 33,
   "id": "2fb3eba6-a5d6-443f-942c-b6b1b8bf616a",
   "metadata": {},
   "outputs": [
    {
     "data": {
      "text/plain": [
       "0    636.30\n",
       "1     73.33\n",
       "2    452.70\n",
       "3    242.70\n",
       "4     67.27\n",
       "Name: average, dtype: float64"
      ]
     },
     "execution_count": 33,
     "metadata": {},
     "output_type": "execute_result"
    }
   ],
   "source": [
    "# showing the dataframe\n",
    "df_exams['average'].round(2).head()"
   ]
  },
  {
   "cell_type": "markdown",
   "id": "a91f7515-ed56-47df-80a1-a74403115845",
   "metadata": {},
   "source": [
    "# Value Counts"
   ]
  },
  {
   "cell_type": "markdown",
   "id": "e1d8cbf8-fa38-4c46-804a-3b329ab92258",
   "metadata": {},
   "source": [
    "### counting elements in a column"
   ]
  },
  {
   "cell_type": "code",
   "execution_count": 38,
   "id": "48ccde4a-d238-43e0-8f07-e737f9f9775a",
   "metadata": {},
   "outputs": [
    {
     "data": {
      "text/plain": [
       "286392"
      ]
     },
     "execution_count": 38,
     "metadata": {},
     "output_type": "execute_result"
    }
   ],
   "source": [
    "# counting elements\n",
    "# len function\n",
    "len(df_exams['County'])"
   ]
  },
  {
   "cell_type": "code",
   "execution_count": 40,
   "id": "56f0a0eb-d9f5-451b-888b-36da412ce808",
   "metadata": {},
   "outputs": [
    {
     "data": {
      "text/plain": [
       "286392"
      ]
     },
     "execution_count": 40,
     "metadata": {},
     "output_type": "execute_result"
    }
   ],
   "source": [
    "# .count() method\n",
    "df_exams['County'].count()"
   ]
  },
  {
   "cell_type": "markdown",
   "id": "cae98461-86c4-42d5-9cf3-05e5602337bd",
   "metadata": {},
   "source": [
    "### we have the count of all the values inside the columns"
   ]
  },
  {
   "cell_type": "code",
   "execution_count": 41,
   "id": "54947fd1-958e-4fc2-a103-93cb8b44f4e3",
   "metadata": {},
   "outputs": [
    {
     "data": {
      "text/plain": [
       "Jefferson        3510\n",
       "Los Angeles      3198\n",
       "DeKalb           3098\n",
       "Washington       2863\n",
       "Montgomery       2563\n",
       "                 ... \n",
       "Bloom City          1\n",
       "Cinda               1\n",
       "Lisbon Center       1\n",
       "Clintonville        1\n",
       "Burnwell            1\n",
       "Name: County, Length: 2551, dtype: int64"
      ]
     },
     "execution_count": 41,
     "metadata": {},
     "output_type": "execute_result"
    }
   ],
   "source": [
    "# counting gender elements by category\n",
    "df_exams['County'].value_counts()"
   ]
  },
  {
   "cell_type": "markdown",
   "id": "60c39761-468a-44b5-a731-9cb3ddcda84e",
   "metadata": {},
   "source": [
    "### we have the percentage of the metrics"
   ]
  },
  {
   "cell_type": "code",
   "execution_count": 47,
   "id": "5a85db64-9617-4563-92d8-7888085c43cd",
   "metadata": {},
   "outputs": [
    {
     "data": {
      "text/plain": [
       "canceled          0.3917\n",
       "complete          0.3107\n",
       "received          0.1808\n",
       "order_refunded    0.0898\n",
       "refund            0.0133\n",
       "cod               0.0100\n",
       "paid              0.0026\n",
       "closed            0.0006\n",
       "payment_review    0.0002\n",
       "pending           0.0002\n",
       "processing        0.0001\n",
       "holded            0.0001\n",
       "pending_paypal    0.0000\n",
       "Name: status, dtype: float64"
      ]
     },
     "execution_count": 47,
     "metadata": {},
     "output_type": "execute_result"
    }
   ],
   "source": [
    "# return the relative frequency (divide all values by the sum of values)\n",
    "df_exams['status'].value_counts(normalize=True)"
   ]
  },
  {
   "cell_type": "code",
   "execution_count": 45,
   "id": "ae304602-f84c-41f5-8606-9072fcf9ddb6",
   "metadata": {},
   "outputs": [
    {
     "data": {
      "text/plain": [
       "jugonzalez     2524\n",
       "exbailes        707\n",
       "lumelo          608\n",
       "pnbraddy        436\n",
       "hmbeebe         397\n",
       "               ... \n",
       "coherald          1\n",
       "mpmessier         1\n",
       "bqblumer          1\n",
       "fjpagano          1\n",
       "reschlosser       1\n",
       "Name: User Name, Length: 64006, dtype: int64"
      ]
     },
     "execution_count": 45,
     "metadata": {},
     "output_type": "execute_result"
    }
   ],
   "source": [
    "# counting the user names\n",
    "df_exams['User Name'].value_counts()"
   ]
  },
  {
   "cell_type": "code",
   "execution_count": 50,
   "id": "f61c96ce-d710-4400-8098-e2ce1d4e1c50",
   "metadata": {},
   "outputs": [
    {
     "data": {
      "text/plain": [
       "South        0.36\n",
       "Midwest      0.28\n",
       "West         0.18\n",
       "Northeast    0.18\n",
       "Name: Region, dtype: float64"
      ]
     },
     "execution_count": 50,
     "metadata": {},
     "output_type": "execute_result"
    }
   ],
   "source": [
    "# return the relative frequency and round to 2 decimals\n",
    "df_exams['Region'].value_counts(normalize=True).round(2)"
   ]
  }
 ],
 "metadata": {
  "kernelspec": {
   "display_name": "Python 3 (ipykernel)",
   "language": "python",
   "name": "python3"
  },
  "language_info": {
   "codemirror_mode": {
    "name": "ipython",
    "version": 3
   },
   "file_extension": ".py",
   "mimetype": "text/x-python",
   "name": "python",
   "nbconvert_exporter": "python",
   "pygments_lexer": "ipython3",
   "version": "3.9.7"
  }
 },
 "nbformat": 4,
 "nbformat_minor": 5
}
