{
 "cells": [
  {
   "cell_type": "code",
   "execution_count": null,
   "id": "ad47b71a-486b-4adc-b5d1-2dffdb1660f4",
   "metadata": {},
   "outputs": [],
   "source": []
  },
  {
   "cell_type": "markdown",
   "id": "73ab66a1-4d78-4819-9705-095945d0abee",
   "metadata": {},
   "source": [
    "# Command Mode (press Esc to enable)"
   ]
  },
  {
   "cell_type": "raw",
   "id": "f9206543-41c1-4699-adf1-9311aad7e595",
   "metadata": {},
   "source": [
    "F : find and replace\n",
    "Ctrl-Shift-F : open the command palette\n",
    "Ctrl-Shift-P : open the command palette\n",
    "Enter : enter edit mode\n",
    "P : open the command palette\n",
    "Shift-Enter : run cell, select below\n",
    "Ctrl-Enter : run selected cells\n",
    "Alt-Enter : run cell and insert below\n",
    "Y : change cell to code\n",
    "M : change cell to markdown\n",
    "R : change cell to raw\n",
    "1 : change cell to heading 1\n",
    "2 : change cell to heading 2\n",
    "3 : change cell to heading 3\n",
    "4 : change cell to heading 4\n",
    "5 : change cell to heading 5\n",
    "6 : change cell to heading 6\n",
    "K : select cell above\n",
    "Up : select cell above\n",
    "Down : select cell below\n",
    "J : select cell below\n",
    "Shift-K : extend selected cells above\n",
    "Shift-Up : extend selected cells above\n",
    "Shift-Down : extend selected cells below\n",
    "Shift-J : extend selected cells below\n",
    "Ctrl-A : select all cells\n",
    "A : insert cell above\n",
    "B : insert cell below\n",
    "X : cut selected cells\n",
    "C : copy selected cells\n",
    "Shift-V : paste cells above\n",
    "V : paste cells below\n",
    "Z : undo cell deletion\n",
    "D,D : delete selected cells\n",
    "Shift-M : merge selected cells, or current cell with cell below if only one cell is selected\n",
    "Ctrl-S : Save and Checkpoint\n",
    "S : Save and Checkpoint\n",
    "L : toggle line numbers\n",
    "O : toggle output of selected cells\n",
    "Shift-O : toggle output scrolling of selected cells\n",
    "H : show keyboard shortcuts\n",
    "I,I : interrupt the kernel\n",
    "0,0 : restart the kernel (with dialog)\n",
    "Ctrl-V : Dialog for paste from system clipboard\n",
    "Esc : close the pager\n",
    "Q : close the pager\n",
    "Shift-L : toggles line numbers in all cells, and persist the setting\n",
    "Shift-Space : scroll notebook up\n",
    "Space : scroll notebook down\n",
    "\n"
   ]
  },
  {
   "cell_type": "markdown",
   "id": "4aa15737-e513-4cd4-9d4f-b5db59a37684",
   "metadata": {},
   "source": [
    "# Edit Mode (press Enter to enable)"
   ]
  },
  {
   "cell_type": "raw",
   "id": "809140df-9dda-4158-87a3-e04cd4828b51",
   "metadata": {},
   "source": [
    "Ctrl-A : select all\n",
    "Ctrl-Z : undo\n",
    "Ctrl-/ : comment\n",
    "Ctrl-D : delete whole line\n",
    "Ctrl-U : undo selection\n",
    "Insert : toggle overwrite flag\n",
    "Ctrl-Home : go to cell start\n",
    "Ctrl-Up : go to cell start\n",
    "Ctrl-End : go to cell end\n",
    "Ctrl-Down : go to cell end\n",
    "Ctrl-Left : go one word left\n",
    "Ctrl-Right : go one word right\n",
    "Ctrl-Backspace : delete word before\n",
    "Ctrl-Delete : delete word after\n",
    "Ctrl-Y : redo\n",
    "Alt-U : redo selection\n",
    "Ctrl-M : enter command mode\n",
    "Ctrl-Shift-F : open the command palette\n",
    "Ctrl-Shift-P : open the command palette\n",
    "Esc : enter command mode\n",
    "Shift-Enter : run cell, select below\n",
    "Ctrl-Enter : run selected cells\n",
    "Alt-Enter : run cell and insert below\n",
    "Ctrl-Shift-Minus : split cell at cursor(s)\n",
    "Ctrl-S : Save and Checkpoint\n",
    "Down : move cursor down\n",
    "Up : move cursor upCommand Mode (press Esc to enable)"
   ]
  },
  {
   "cell_type": "markdown",
   "id": "f409f442-6beb-4b9d-801b-106db773bd9a",
   "metadata": {},
   "source": [
    "# creating our 1sr message"
   ]
  },
  {
   "cell_type": "markdown",
   "id": "4b5a2892-3a4b-43c4-bdde-b305331780ae",
   "metadata": {},
   "source": [
    "printing our 1srt message"
   ]
  },
  {
   "cell_type": "code",
   "execution_count": 120,
   "id": "6c42f549-bc2b-4d78-9d32-fa9b5a879fcb",
   "metadata": {},
   "outputs": [
    {
     "name": "stdout",
     "output_type": "stream",
     "text": [
      "hello world!\n"
     ]
    }
   ],
   "source": [
    "#printing our 1srt message\n",
    "print(\"hello world!\")"
   ]
  },
  {
   "cell_type": "markdown",
   "id": "71ebcd55-a5b5-4598-a566-990ac140f35f",
   "metadata": {},
   "source": [
    "# data type"
   ]
  },
  {
   "cell_type": "code",
   "execution_count": 121,
   "id": "2b1e7f36-fdbe-4617-847d-16761eaded81",
   "metadata": {},
   "outputs": [
    {
     "data": {
      "text/plain": [
       "int"
      ]
     },
     "execution_count": 121,
     "metadata": {},
     "output_type": "execute_result"
    }
   ],
   "source": [
    "type(1)"
   ]
  },
  {
   "cell_type": "code",
   "execution_count": 122,
   "id": "3a7ff198-1a54-4d4f-9eb1-7d5029fc1856",
   "metadata": {},
   "outputs": [
    {
     "data": {
      "text/plain": [
       "float"
      ]
     },
     "execution_count": 122,
     "metadata": {},
     "output_type": "execute_result"
    }
   ],
   "source": [
    "type(2.5)"
   ]
  },
  {
   "cell_type": "code",
   "execution_count": 123,
   "id": "13f2a1e1-d038-4ed5-82e0-66ed598e9194",
   "metadata": {},
   "outputs": [
    {
     "data": {
      "text/plain": [
       "8"
      ]
     },
     "execution_count": 123,
     "metadata": {},
     "output_type": "execute_result"
    }
   ],
   "source": [
    "2*4"
   ]
  },
  {
   "cell_type": "code",
   "execution_count": 124,
   "id": "dc1eef1c-3744-47de-8f10-135e904d7761",
   "metadata": {},
   "outputs": [
    {
     "data": {
      "text/plain": [
       "bool"
      ]
     },
     "execution_count": 124,
     "metadata": {},
     "output_type": "execute_result"
    }
   ],
   "source": [
    "type(True)"
   ]
  },
  {
   "cell_type": "code",
   "execution_count": 125,
   "id": "fa46aee5-45b6-4463-977c-11f12c40a64d",
   "metadata": {},
   "outputs": [
    {
     "data": {
      "text/plain": [
       "str"
      ]
     },
     "execution_count": 125,
     "metadata": {},
     "output_type": "execute_result"
    }
   ],
   "source": [
    "type(\"holla soy una string\")"
   ]
  },
  {
   "cell_type": "code",
   "execution_count": 126,
   "id": "e437f7dd-d69c-4bb6-b820-b50d60387f8b",
   "metadata": {},
   "outputs": [
    {
     "name": "stdout",
     "output_type": "stream",
     "text": [
      "TRANSFORM TO UPPER THE TEXT TO UPPER\n",
      "transform to upper the text to lower\n",
      "Transform To Upper The Text To Title\n"
     ]
    }
   ],
   "source": [
    "#we have to use the print method to prin all the text\n",
    "print(\"transform to upper the text to upper\".upper())\n",
    "print(\"TRANSFORM to upper the text to lower\".lower())\n",
    "print(\"transform to upper the text to title\".title())"
   ]
  },
  {
   "cell_type": "code",
   "execution_count": 127,
   "id": "d1eb3de2-1058-4482-ba46-4b47209ea226",
   "metadata": {},
   "outputs": [
    {
     "data": {
      "text/plain": [
       "4"
      ]
     },
     "execution_count": 127,
     "metadata": {},
     "output_type": "execute_result"
    }
   ],
   "source": [
    "#count how many times the letter e its inside\n",
    "\"transform to upper the text to title\".count(\"e\")"
   ]
  },
  {
   "cell_type": "code",
   "execution_count": 128,
   "id": "e784748f-ef1e-4711-b7a6-866772469927",
   "metadata": {},
   "outputs": [
    {
     "data": {
      "text/plain": [
       "'transform to uppXr thX tXxt to titlX'"
      ]
     },
     "execution_count": 128,
     "metadata": {},
     "output_type": "execute_result"
    }
   ],
   "source": [
    "#replace a letter\n",
    "\"transform to upper the text to title\".replace(\"e\", \"X\")"
   ]
  },
  {
   "cell_type": "markdown",
   "id": "ba28c69a-04b8-4d45-a9fb-b1694c0bd2d6",
   "metadata": {},
   "source": [
    "# variables"
   ]
  },
  {
   "cell_type": "code",
   "execution_count": 129,
   "id": "e165a375-b2b4-4d2f-b28e-7a9bcdd82ea0",
   "metadata": {},
   "outputs": [],
   "source": [
    "message_1 = \"We asign this value\""
   ]
  },
  {
   "cell_type": "code",
   "execution_count": 130,
   "id": "e33a3eb2-464d-465f-bd60-bbedc60c26f4",
   "metadata": {},
   "outputs": [
    {
     "data": {
      "text/plain": [
       "'We asign this value'"
      ]
     },
     "execution_count": 130,
     "metadata": {},
     "output_type": "execute_result"
    }
   ],
   "source": [
    "message_1"
   ]
  },
  {
   "cell_type": "code",
   "execution_count": 131,
   "id": "c1ebc331-cf41-426f-b137-71f6c309d646",
   "metadata": {},
   "outputs": [],
   "source": [
    "message_2 = \"all its fine\""
   ]
  },
  {
   "cell_type": "code",
   "execution_count": 132,
   "id": "0679e94a-32b3-4d90-a93f-09c28ac592d5",
   "metadata": {},
   "outputs": [
    {
     "data": {
      "text/plain": [
       "'all its fine'"
      ]
     },
     "execution_count": 132,
     "metadata": {},
     "output_type": "execute_result"
    }
   ],
   "source": [
    "message_2"
   ]
  },
  {
   "cell_type": "code",
   "execution_count": 133,
   "id": "19e34d4a-f85b-40fa-944c-4ba61d937432",
   "metadata": {},
   "outputs": [
    {
     "data": {
      "text/plain": [
       "'We asign this valueall its fine'"
      ]
     },
     "execution_count": 133,
     "metadata": {},
     "output_type": "execute_result"
    }
   ],
   "source": [
    "message_1 + message_2"
   ]
  },
  {
   "cell_type": "code",
   "execution_count": 134,
   "id": "3ee959d7-3885-45a5-ac5f-ff8e436e4dec",
   "metadata": {},
   "outputs": [
    {
     "data": {
      "text/plain": [
       "'hellow world all its fine'"
      ]
     },
     "execution_count": 134,
     "metadata": {},
     "output_type": "execute_result"
    }
   ],
   "source": [
    "#adding a variable to a text\n",
    "f'hellow world {message_2}'"
   ]
  },
  {
   "cell_type": "markdown",
   "id": "e57cf792-3dd8-4bfe-9ad5-026fb4033a37",
   "metadata": {},
   "source": [
    "# List"
   ]
  },
  {
   "cell_type": "markdown",
   "id": "26004b07-e0ed-4d99-83d4-d52b8b09cf13",
   "metadata": {},
   "source": [
    "this are mutable items that can change the values"
   ]
  },
  {
   "cell_type": "code",
   "execution_count": 135,
   "id": "55a4763c-98ac-4028-af7b-8dc9a60c24f6",
   "metadata": {},
   "outputs": [],
   "source": [
    "#We can add duplicated items\n",
    "country = [\"united states\", \"china\", \"brazil\", \"india\", \"usa\"]"
   ]
  },
  {
   "cell_type": "code",
   "execution_count": 136,
   "id": "ad64ce9f-28c6-4afa-acf8-7799d0063553",
   "metadata": {},
   "outputs": [
    {
     "data": {
      "text/plain": [
       "'brazil'"
      ]
     },
     "execution_count": 136,
     "metadata": {},
     "output_type": "execute_result"
    }
   ],
   "source": [
    "country[-3]"
   ]
  },
  {
   "cell_type": "code",
   "execution_count": 137,
   "id": "1005ca36-fc7b-4f48-b511-660a7c6eccdc",
   "metadata": {},
   "outputs": [
    {
     "data": {
      "text/plain": [
       "['china', 'brazil']"
      ]
     },
     "execution_count": 137,
     "metadata": {},
     "output_type": "execute_result"
    }
   ],
   "source": [
    "#slicing items\n",
    "country[1:3]"
   ]
  },
  {
   "cell_type": "code",
   "execution_count": 138,
   "id": "bdaec8aa-98e3-45cf-8d3e-c216909e9f54",
   "metadata": {},
   "outputs": [
    {
     "data": {
      "text/plain": [
       "['united states', 'china', 'brazil']"
      ]
     },
     "execution_count": 138,
     "metadata": {},
     "output_type": "execute_result"
    }
   ],
   "source": [
    "country[:3]"
   ]
  },
  {
   "cell_type": "markdown",
   "id": "848a9f76-1c58-439a-b495-4e779f85a00e",
   "metadata": {},
   "source": [
    "# Adding elements to the list"
   ]
  },
  {
   "cell_type": "code",
   "execution_count": 139,
   "id": "a3b204f6-5652-485c-a6e4-e93bfbcaa0b4",
   "metadata": {},
   "outputs": [],
   "source": [
    "#adding element\n",
    "country.append(\"canada\")"
   ]
  },
  {
   "cell_type": "code",
   "execution_count": 140,
   "id": "2b380d2c-9131-46b9-8f66-58190dc5ceea",
   "metadata": {},
   "outputs": [
    {
     "data": {
      "text/plain": [
       "['united states', 'china', 'brazil', 'india', 'usa', 'canada']"
      ]
     },
     "execution_count": 140,
     "metadata": {},
     "output_type": "execute_result"
    }
   ],
   "source": [
    "country"
   ]
  },
  {
   "cell_type": "code",
   "execution_count": 141,
   "id": "6a96c221-564d-4e20-a583-4915acc3a70b",
   "metadata": {},
   "outputs": [],
   "source": [
    "#adding a element in a difetenr position.\n",
    "country.insert(0, \"spain\")"
   ]
  },
  {
   "cell_type": "code",
   "execution_count": 142,
   "id": "ecbb5471-a57e-4b10-b3a4-b222f4199d19",
   "metadata": {},
   "outputs": [
    {
     "data": {
      "text/plain": [
       "['spain', 'united states', 'china', 'brazil', 'india', 'usa', 'canada']"
      ]
     },
     "execution_count": 142,
     "metadata": {},
     "output_type": "execute_result"
    }
   ],
   "source": [
    "country"
   ]
  },
  {
   "cell_type": "code",
   "execution_count": 143,
   "id": "2a055e45-1d48-47cc-b890-b4322e7aa420",
   "metadata": {},
   "outputs": [],
   "source": [
    "#Nested list\n",
    "nested_list = [country, \"more countrys...\"]"
   ]
  },
  {
   "cell_type": "code",
   "execution_count": 144,
   "id": "e4b6c131-5a78-4180-8434-e2882729b920",
   "metadata": {},
   "outputs": [
    {
     "data": {
      "text/plain": [
       "[['spain', 'united states', 'china', 'brazil', 'india', 'usa', 'canada'],\n",
       " 'more countrys...']"
      ]
     },
     "execution_count": 144,
     "metadata": {},
     "output_type": "execute_result"
    }
   ],
   "source": [
    "nested_list"
   ]
  },
  {
   "cell_type": "code",
   "execution_count": 145,
   "id": "d7b03f33-aead-42ac-bf5d-e81b680ac9ca",
   "metadata": {},
   "outputs": [],
   "source": [
    "#removing a country using the name if we know the name of the item\n",
    "country.remove(\"canada\")"
   ]
  },
  {
   "cell_type": "code",
   "execution_count": 146,
   "id": "95b1f816-fc87-4b33-a8bb-e90621d23040",
   "metadata": {},
   "outputs": [
    {
     "data": {
      "text/plain": [
       "['spain', 'united states', 'china', 'brazil', 'india', 'usa']"
      ]
     },
     "execution_count": 146,
     "metadata": {},
     "output_type": "execute_result"
    }
   ],
   "source": [
    "country"
   ]
  },
  {
   "cell_type": "code",
   "execution_count": 147,
   "id": "b4ad526b-47f9-4093-a350-65f63ff52570",
   "metadata": {},
   "outputs": [],
   "source": [
    "#We get this element or we can delete it\n",
    "countrinameCanada = country.pop(-2)"
   ]
  },
  {
   "cell_type": "code",
   "execution_count": 148,
   "id": "ac610ede-fa25-4c2d-bdc3-7c877eea4a3b",
   "metadata": {},
   "outputs": [
    {
     "data": {
      "text/plain": [
       "['spain', 'united states', 'china', 'brazil', 'usa']"
      ]
     },
     "execution_count": 148,
     "metadata": {},
     "output_type": "execute_result"
    }
   ],
   "source": [
    "country\n"
   ]
  },
  {
   "cell_type": "code",
   "execution_count": 149,
   "id": "0d05d683-1fd1-49cc-a3b4-209ae68a724d",
   "metadata": {},
   "outputs": [
    {
     "data": {
      "text/plain": [
       "'india'"
      ]
     },
     "execution_count": 149,
     "metadata": {},
     "output_type": "execute_result"
    }
   ],
   "source": [
    "countrinameCanada"
   ]
  },
  {
   "cell_type": "code",
   "execution_count": 150,
   "id": "8fdf2d3c-b46f-4fb8-adf1-ea93bd49c8c3",
   "metadata": {},
   "outputs": [],
   "source": [
    "#delete a name \n",
    "del country[0]"
   ]
  },
  {
   "cell_type": "code",
   "execution_count": 151,
   "id": "e240600b-ac2c-4ddd-90bb-7257ad05d078",
   "metadata": {},
   "outputs": [
    {
     "data": {
      "text/plain": [
       "['united states', 'china', 'brazil', 'usa']"
      ]
     },
     "execution_count": 151,
     "metadata": {},
     "output_type": "execute_result"
    }
   ],
   "source": [
    "country\n"
   ]
  },
  {
   "cell_type": "markdown",
   "id": "ba2b2d7b-f7c8-4764-ab53-9a57d477e44e",
   "metadata": {},
   "source": [
    "# Soarting a list\n"
   ]
  },
  {
   "cell_type": "code",
   "execution_count": 152,
   "id": "82cf007d-0253-4f88-8d8a-7c460285dd23",
   "metadata": {},
   "outputs": [],
   "source": [
    "numbers = [5,6,88,1,2,35,41,23,1,56]"
   ]
  },
  {
   "cell_type": "code",
   "execution_count": 153,
   "id": "4a77bd4b-0b84-47a7-ac83-55cc7f956afe",
   "metadata": {},
   "outputs": [],
   "source": [
    "numbers.sort()"
   ]
  },
  {
   "cell_type": "code",
   "execution_count": 154,
   "id": "70256344-5688-466c-928e-81c20c0b955e",
   "metadata": {},
   "outputs": [
    {
     "data": {
      "text/plain": [
       "[1, 1, 2, 5, 6, 23, 35, 41, 56, 88]"
      ]
     },
     "execution_count": 154,
     "metadata": {},
     "output_type": "execute_result"
    }
   ],
   "source": [
    "numbers"
   ]
  },
  {
   "cell_type": "code",
   "execution_count": 155,
   "id": "3eef72a2-1297-4fb6-8c8a-096ab91b4266",
   "metadata": {},
   "outputs": [],
   "source": [
    "#Reverse the order of numbers\n",
    "numbers.sort(reverse = True)"
   ]
  },
  {
   "cell_type": "code",
   "execution_count": 156,
   "id": "eac4a4cc-c1da-4642-bbff-243cdc5484d4",
   "metadata": {},
   "outputs": [
    {
     "data": {
      "text/plain": [
       "[88, 56, 41, 35, 23, 6, 5, 2, 1, 1]"
      ]
     },
     "execution_count": 156,
     "metadata": {},
     "output_type": "execute_result"
    }
   ],
   "source": [
    "numbers"
   ]
  },
  {
   "cell_type": "markdown",
   "id": "0a065ea4-aca5-4635-b9f2-85f4de4c7017",
   "metadata": {},
   "source": [
    "# Update an element"
   ]
  },
  {
   "cell_type": "code",
   "execution_count": 157,
   "id": "82e167dc-9039-4da7-a753-390012bf4be9",
   "metadata": {},
   "outputs": [
    {
     "data": {
      "text/plain": [
       "[1000, 56, 41, 35, 23, 6, 5, 2, 1, 1]"
      ]
     },
     "execution_count": 157,
     "metadata": {},
     "output_type": "execute_result"
    }
   ],
   "source": [
    "numbers[0] = 1000\n",
    "numbers"
   ]
  },
  {
   "cell_type": "markdown",
   "id": "023bb0ba-eae8-4d67-8ec9-e235199e17d6",
   "metadata": {},
   "source": [
    "# copying a list"
   ]
  },
  {
   "cell_type": "markdown",
   "id": "8221ddf3-c80d-4f58-a827-527dd60fb313",
   "metadata": {},
   "source": [
    "Diferent way yo copy items"
   ]
  },
  {
   "cell_type": "code",
   "execution_count": 158,
   "id": "0b99c198-b970-4ad9-9288-d4985905d7b5",
   "metadata": {},
   "outputs": [
    {
     "data": {
      "text/plain": [
       "['united states', 'china', 'brazil', 'usa']"
      ]
     },
     "execution_count": 158,
     "metadata": {},
     "output_type": "execute_result"
    }
   ],
   "source": [
    "copy_country = country[:]\n",
    "copy_country"
   ]
  },
  {
   "cell_type": "code",
   "execution_count": 159,
   "id": "a21ca21c-fccc-4980-8d23-14df43fce39d",
   "metadata": {},
   "outputs": [
    {
     "data": {
      "text/plain": [
       "['united states', 'china', 'brazil', 'usa']"
      ]
     },
     "execution_count": 159,
     "metadata": {},
     "output_type": "execute_result"
    }
   ],
   "source": [
    "copy_country2 = country.copy()\n",
    "copy_country2"
   ]
  },
  {
   "cell_type": "markdown",
   "id": "54db7adc-97eb-4063-9dbe-fffa3687e167",
   "metadata": {},
   "source": [
    "# Dictionary"
   ]
  },
  {
   "cell_type": "code",
   "execution_count": 175,
   "id": "1e17972f-5ba4-4dbf-a4bb-30b66951f0d7",
   "metadata": {},
   "outputs": [],
   "source": [
    "#Format of my dictionaty\n",
    "# my_dict = {'key1:' : 'value','key2:' : 'value','key3:' : 'value'}"
   ]
  },
  {
   "cell_type": "code",
   "execution_count": 174,
   "id": "c06e8d62-1013-4c71-bf93-c812a52d19fc",
   "metadata": {},
   "outputs": [],
   "source": [
    "my_dict = {'name:' : 'john','age:' : 42,'color:' : 'red'}"
   ]
  },
  {
   "cell_type": "code",
   "execution_count": 162,
   "id": "8a75cb2a-8c83-4896-bb4f-c037411e20f8",
   "metadata": {},
   "outputs": [
    {
     "data": {
      "text/plain": [
       "{'name:': 'john', 'age:': '42', 'color:': 'red'}"
      ]
     },
     "execution_count": 162,
     "metadata": {},
     "output_type": "execute_result"
    }
   ],
   "source": [
    "my_dict"
   ]
  },
  {
   "cell_type": "code",
   "execution_count": 163,
   "id": "4216c3bb-1f57-423b-92e1-c355c8228677",
   "metadata": {},
   "outputs": [
    {
     "data": {
      "text/plain": [
       "dict_keys(['name:', 'age:', 'color:'])"
      ]
     },
     "execution_count": 163,
     "metadata": {},
     "output_type": "execute_result"
    }
   ],
   "source": [
    "#This its how you get the name of the keys\n",
    "my_dict.keys()"
   ]
  },
  {
   "cell_type": "code",
   "execution_count": 164,
   "id": "269cf3db-5508-4072-be14-a9122d186bbe",
   "metadata": {},
   "outputs": [
    {
     "data": {
      "text/plain": [
       "dict_values(['john', '42', 'red'])"
      ]
     },
     "execution_count": 164,
     "metadata": {},
     "output_type": "execute_result"
    }
   ],
   "source": [
    "#get the values\n",
    "my_dict.values()"
   ]
  },
  {
   "cell_type": "code",
   "execution_count": 165,
   "id": "aba4b396-2fb0-41cf-b523-19be53be3e28",
   "metadata": {},
   "outputs": [
    {
     "data": {
      "text/plain": [
       "dict_items([('name:', 'john'), ('age:', '42'), ('color:', 'red')])"
      ]
     },
     "execution_count": 165,
     "metadata": {},
     "output_type": "execute_result"
    }
   ],
   "source": [
    "# <!-- get all the dictionarry  -->\n",
    "my_dict.items()"
   ]
  },
  {
   "cell_type": "code",
   "execution_count": 166,
   "id": "4977ee10-da24-4186-b5d4-c615c3831fb7",
   "metadata": {},
   "outputs": [
    {
     "data": {
      "text/plain": [
       "{'name:': 'john', 'age:': '42', 'color:': 'red', 'height': 2.5}"
      ]
     },
     "execution_count": 166,
     "metadata": {},
     "output_type": "execute_result"
    }
   ],
   "source": [
    "# adding an item to an dictionary\n",
    "my_dict['height'] =2.5\n",
    "my_dict"
   ]
  },
  {
   "cell_type": "code",
   "execution_count": 167,
   "id": "146f210a-4ca0-499d-b4ce-f4579a4e41c6",
   "metadata": {},
   "outputs": [
    {
     "data": {
      "text/plain": [
       "{'name:': 'john', 'age:': '42', 'color:': 'red', 'height': 4010}"
      ]
     },
     "execution_count": 167,
     "metadata": {},
     "output_type": "execute_result"
    }
   ],
   "source": [
    "# to change the value or update we used the method update\n",
    "my_dict.update({'height': 4010})\n",
    "my_dict"
   ]
  },
  {
   "cell_type": "markdown",
   "id": "7ec3e43b-2649-4f68-afe9-33e36f40d383",
   "metadata": {},
   "source": [
    "# copy for dictionary"
   ]
  },
  {
   "cell_type": "code",
   "execution_count": 168,
   "id": "3714d42f-f0bc-47df-9055-61cca23ca3ad",
   "metadata": {},
   "outputs": [
    {
     "data": {
      "text/plain": [
       "{'name:': 'john', 'age:': '42', 'color:': 'red', 'height': 4010}"
      ]
     },
     "execution_count": 168,
     "metadata": {},
     "output_type": "execute_result"
    }
   ],
   "source": [
    "new_dict = my_dict.copy()\n",
    "new_dict"
   ]
  },
  {
   "cell_type": "code",
   "execution_count": 187,
   "id": "1094661a-c5be-48e1-883b-1f6ec757f03f",
   "metadata": {},
   "outputs": [
    {
     "data": {
      "text/plain": [
       "{'name:': 'john', 'age:': '42', 'color:': 'red', 'height': 222}"
      ]
     },
     "execution_count": 187,
     "metadata": {},
     "output_type": "execute_result"
    }
   ],
   "source": [
    "# Onces we update again the height value we will recive a diferent value\n",
    "my_dict.update({'height': 222})\n",
    "my_dict"
   ]
  },
  {
   "cell_type": "code",
   "execution_count": 178,
   "id": "1a83daa4-7084-4677-99d6-0d3973259a61",
   "metadata": {},
   "outputs": [
    {
     "data": {
      "text/plain": [
       "{'name:': 'john', 'age:': '42', 'color:': 'red', 'height': 4010}"
      ]
     },
     "execution_count": 178,
     "metadata": {},
     "output_type": "execute_result"
    }
   ],
   "source": [
    "new_dict"
   ]
  },
  {
   "cell_type": "markdown",
   "id": "6966ddd9-67ef-4b6b-ac63-11a311651a00",
   "metadata": {
    "tags": []
   },
   "source": [
    "# remove element"
   ]
  },
  {
   "cell_type": "markdown",
   "id": "3255e63d-2266-47cb-90b0-6f6a75ceab3f",
   "metadata": {},
   "source": [
    "when we get the error below its possible that we already rdelet the data"
   ]
  },
  {
   "cell_type": "raw",
   "id": "a07937fb-e35b-4ccb-949f-02c674db47c1",
   "metadata": {},
   "source": [
    "\n",
    "---------------------------------------------------------------------------\n",
    "AttributeError                            Traceback (most recent call last)\n",
    "~\\AppData\\Local\\Temp/ipykernel_14400/61235004.py in <module>\n",
    "----> 1 my_dict2.remove(\"name\")\n",
    "\n",
    "AttributeError: 'dict' object has no attribute 'remove'"
   ]
  },
  {
   "cell_type": "code",
   "execution_count": 21,
   "id": "4177ee2c-645e-46fe-b929-21ca09052e8f",
   "metadata": {},
   "outputs": [],
   "source": [
    "my_data = {'name':'Frank', 'age':26, 'height' : 516, 'color': 'red'}"
   ]
  },
  {
   "cell_type": "code",
   "execution_count": 215,
   "id": "00b5c0ec-10ee-416a-984a-e4c46d6f039d",
   "metadata": {},
   "outputs": [
    {
     "data": {
      "text/plain": [
       "516"
      ]
     },
     "execution_count": 215,
     "metadata": {},
     "output_type": "execute_result"
    }
   ],
   "source": [
    "#this its how you remove some data from the dictionary\n",
    "my_data.pop('height')"
   ]
  },
  {
   "cell_type": "code",
   "execution_count": 216,
   "id": "6ad89d91-237c-4d08-95fd-7a0cda34a4f7",
   "metadata": {},
   "outputs": [],
   "source": [
    "# delete the data \n",
    "del my_data['age']"
   ]
  },
  {
   "cell_type": "code",
   "execution_count": 217,
   "id": "969e677f-9dcb-449e-8d10-5351ff564bcc",
   "metadata": {},
   "outputs": [
    {
     "data": {
      "text/plain": [
       "{'name': 'Frank', 'color': 'red'}"
      ]
     },
     "execution_count": 217,
     "metadata": {},
     "output_type": "execute_result"
    }
   ],
   "source": [
    "my_data"
   ]
  },
  {
   "cell_type": "code",
   "execution_count": 218,
   "id": "4e6df29e-d499-41f9-82e8-c65f111fd25b",
   "metadata": {},
   "outputs": [],
   "source": [
    "# if we wanted to clear all the dictionary we use clear\n",
    "my_data.clear()"
   ]
  },
  {
   "cell_type": "code",
   "execution_count": 219,
   "id": "65439577-86da-49a4-a38f-0679932c12a1",
   "metadata": {},
   "outputs": [
    {
     "data": {
      "text/plain": [
       "{}"
      ]
     },
     "execution_count": 219,
     "metadata": {},
     "output_type": "execute_result"
    }
   ],
   "source": [
    "my_data"
   ]
  },
  {
   "cell_type": "markdown",
   "id": "739a13ed-ef04-4c29-9e64-541bcfc18490",
   "metadata": {},
   "source": [
    "# If Statement"
   ]
  },
  {
   "cell_type": "markdown",
   "id": "7f9bb0cf-846c-41d0-a3a1-327729df9f2a",
   "metadata": {},
   "source": [
    "The if statement is one of the most common statements used in Python. It's a conditional statement used to decide whether a statement (or block of statements) will be executed.\n"
   ]
  },
  {
   "cell_type": "code",
   "execution_count": 7,
   "id": "c3d07023-650c-4687-9356-88e36624e434",
   "metadata": {},
   "outputs": [
    {
     "name": "stdout",
     "output_type": "stream",
     "text": [
      "You're a kid\n"
     ]
    }
   ],
   "source": [
    "age = 2\n",
    "\n",
    "if age>=18:\n",
    "    print(\"You're an adult!\")\n",
    "elif age>=13:\n",
    "    print(\"You're a teenager!\")\n",
    "else:\n",
    "    print(\"You're a kid\")"
   ]
  },
  {
   "cell_type": "markdown",
   "id": "1f6be58f-d315-4249-8aa2-e9c7abb7eb61",
   "metadata": {},
   "source": [
    "We can use the if statement with in keyword to verify if an element is in a list."
   ]
  },
  {
   "cell_type": "code",
   "execution_count": 3,
   "id": "deafbfcd-5099-477b-bd4b-e9ea300c5b15",
   "metadata": {},
   "outputs": [
    {
     "name": "stdout",
     "output_type": "stream",
     "text": [
      "Country is in list\n"
     ]
    }
   ],
   "source": [
    "countries = ['United States', 'India',\n",
    "             'China', 'Brazil']\n",
    "\n",
    "if 'China' in countries:\n",
    "    print(\"Country is in list\")\n",
    "else:\n",
    "    print(\"Not in list\")"
   ]
  },
  {
   "cell_type": "markdown",
   "id": "f7ea0955-3b96-470a-b3c6-facdfabaa178",
   "metadata": {
    "tags": []
   },
   "source": [
    "### Operators"
   ]
  },
  {
   "cell_type": "markdown",
   "id": "0d34c842-dff9-458a-90a6-7cd6d620dfa3",
   "metadata": {},
   "source": [
    "Comparisson Operators\n",
    "\n",
    "*  Equal to: ==\n",
    "* Different: !=\n",
    "* Greater than: >\n",
    "* Less than: <\n",
    "* Greater than or equal to: >=\n",
    "* Less than or equal to: <=\n",
    "* Boolean Operators\n",
    "\n",
    "* and\n",
    "* or\n",
    "* not"
   ]
  },
  {
   "cell_type": "markdown",
   "id": "1a8466d2-9d1c-4323-ad49-91014985ca32",
   "metadata": {},
   "source": [
    "# For Loop"
   ]
  },
  {
   "cell_type": "markdown",
   "id": "61abb170-34ca-4347-9f7e-56bde85a170b",
   "metadata": {},
   "source": [
    "The for loop is a frequently used loop in Python. It allows us to loop through an iterable object (e.g., list, dictionaries) and perform the same action to each element."
   ]
  },
  {
   "cell_type": "code",
   "execution_count": 11,
   "id": "dfe257e8-bad8-4bd8-a017-85b6cc827dc2",
   "metadata": {},
   "outputs": [
    {
     "name": "stdout",
     "output_type": "stream",
     "text": [
      "United States\n",
      "India\n",
      "China\n",
      "Brazil\n"
     ]
    }
   ],
   "source": [
    "for x in countries:\n",
    "    print(x)"
   ]
  },
  {
   "cell_type": "code",
   "execution_count": 23,
   "id": "0d36656c-2abe-4c73-8181-d3f961c3de37",
   "metadata": {},
   "outputs": [
    {
     "name": "stdout",
     "output_type": "stream",
     "text": [
      "United States\n"
     ]
    }
   ],
   "source": [
    "for country in countries:\n",
    "    if country == \"United States\":\n",
    "        print(country)"
   ]
  },
  {
   "cell_type": "markdown",
   "id": "0eae5ddf-26f5-4543-8a00-4824d01b5343",
   "metadata": {},
   "source": [
    "### Enumerating in a for loop"
   ]
  },
  {
   "cell_type": "markdown",
   "id": "c2f59d36-1546-4271-b0d0-6eae43608f01",
   "metadata": {},
   "source": [
    "Sometimes we need to enumerate elements in a loop. We can do this with the for loop."
   ]
  },
  {
   "cell_type": "code",
   "execution_count": 22,
   "id": "4326d0fd-bfd5-40eb-b9b6-61ff3b75a185",
   "metadata": {},
   "outputs": [
    {
     "name": "stdout",
     "output_type": "stream",
     "text": [
      "0\n",
      "United States\n",
      "1\n",
      "India\n",
      "2\n",
      "China\n",
      "3\n",
      "Brazil\n"
     ]
    }
   ],
   "source": [
    "for i, country in enumerate(countries):\n",
    "    print(i)\n",
    "    print(country)"
   ]
  },
  {
   "cell_type": "markdown",
   "id": "dc413300-2aed-4ab6-8bfa-a6e779fb5c06",
   "metadata": {},
   "source": [
    "### Looping through dictionary elements"
   ]
  },
  {
   "cell_type": "markdown",
   "id": "6213c594-612c-4b8a-bfff-d561b25ff757",
   "metadata": {},
   "source": [
    "We can obtain the key and item separately while looping through a dictionary. We only need to use the .items() method."
   ]
  },
  {
   "cell_type": "code",
   "execution_count": 25,
   "id": "50d83a53-16eb-4e43-a8e8-7ae2d829718c",
   "metadata": {},
   "outputs": [
    {
     "name": "stdout",
     "output_type": "stream",
     "text": [
      "name\n",
      "Frank\n",
      "age\n",
      "26\n",
      "height\n",
      "516\n",
      "color\n",
      "red\n"
     ]
    }
   ],
   "source": [
    "for key, value in my_data.items():\n",
    "    print(key)\n",
    "    print(value)"
   ]
  },
  {
   "cell_type": "markdown",
   "id": "d631e307-e553-46b0-90a3-f98b9863817b",
   "metadata": {},
   "source": [
    "# Functions"
   ]
  },
  {
   "cell_type": "markdown",
   "id": "9303adf1-ddf4-45ce-8635-91806259da83",
   "metadata": {},
   "source": [
    "### Built-In Functions"
   ]
  },
  {
   "cell_type": "markdown",
   "id": "12b668f6-4f77-4653-8363-4472c4059321",
   "metadata": {},
   "source": [
    "Python has lots of built-in functions that can help us perform a specific task. Let's have a look at the most common of them."
   ]
  },
  {
   "cell_type": "markdown",
   "id": "87e36130-1a75-49b2-b6ef-089d62e02ba1",
   "metadata": {},
   "source": [
    "* range()\n",
    "* len()\n",
    "* max()\n",
    "* min()\n",
    "* round()\n",
    "* type()"
   ]
  },
  {
   "cell_type": "markdown",
   "id": "de169931-9f26-413e-bddb-ff9df08fa3be",
   "metadata": {},
   "source": [
    "### How to Create a Function"
   ]
  },
  {
   "cell_type": "markdown",
   "id": "88218934-23b5-4edb-a0b8-c11635b322c3",
   "metadata": {},
   "source": [
    "We can also create our own functions. Let's create a function that sums two values a and b"
   ]
  },
  {
   "cell_type": "code",
   "execution_count": 30,
   "id": "a0a5e5d0-02f3-40ad-9904-495a8e6b9b31",
   "metadata": {},
   "outputs": [],
   "source": [
    "def sum_values(a,b):\n",
    "    x = a+b\n",
    "    return x"
   ]
  },
  {
   "cell_type": "code",
   "execution_count": 31,
   "id": "0aded9de-20f7-4fa8-9da5-33e29c94eaa4",
   "metadata": {},
   "outputs": [
    {
     "data": {
      "text/plain": [
       "5"
      ]
     },
     "execution_count": 31,
     "metadata": {},
     "output_type": "execute_result"
    }
   ],
   "source": [
    "sum_values(2,3)"
   ]
  },
  {
   "cell_type": "markdown",
   "id": "73064fd9-0f43-4263-af93-a435665c7c40",
   "metadata": {},
   "source": [
    "some functions that are already build in"
   ]
  },
  {
   "cell_type": "code",
   "execution_count": 33,
   "id": "d3be120a-eacb-4e3d-bf42-9947ce7d3aa1",
   "metadata": {},
   "outputs": [
    {
     "data": {
      "text/plain": [
       "4"
      ]
     },
     "execution_count": 33,
     "metadata": {},
     "output_type": "execute_result"
    }
   ],
   "source": [
    " #we get data from the countrys above\n",
    "len(countries)"
   ]
  },
  {
   "cell_type": "code",
   "execution_count": 41,
   "id": "9c4dbaac-7e77-4a3c-bd98-233c6638f148",
   "metadata": {},
   "outputs": [
    {
     "data": {
      "text/plain": [
       "728"
      ]
     },
     "execution_count": 41,
     "metadata": {},
     "output_type": "execute_result"
    }
   ],
   "source": [
    "max([234,25,2,52,41,1,12,6,728,3,462,93])"
   ]
  },
  {
   "cell_type": "code",
   "execution_count": 42,
   "id": "7e847744-c8ac-4407-bbe9-f0b371a79f29",
   "metadata": {},
   "outputs": [
    {
     "data": {
      "text/plain": [
       "1"
      ]
     },
     "execution_count": 42,
     "metadata": {},
     "output_type": "execute_result"
    }
   ],
   "source": [
    "min([234,25,2,52,41,1,12,6,728,3,462,93])"
   ]
  },
  {
   "cell_type": "code",
   "execution_count": 43,
   "id": "538e9cac-7e76-4845-8a07-f23ae7b29869",
   "metadata": {},
   "outputs": [
    {
     "data": {
      "text/plain": [
       "list"
      ]
     },
     "execution_count": 43,
     "metadata": {},
     "output_type": "execute_result"
    }
   ],
   "source": [
    "type([234,25,2,52,41,1,12,6,728,3,462,93])"
   ]
  },
  {
   "cell_type": "code",
   "execution_count": 46,
   "id": "835201dd-7449-4565-bee1-e736fea65246",
   "metadata": {},
   "outputs": [
    {
     "name": "stdout",
     "output_type": "stream",
     "text": [
      "5\n",
      "8\n",
      "11\n",
      "14\n",
      "17\n",
      "20\n",
      "23\n",
      "26\n",
      "29\n",
      "32\n",
      "35\n",
      "38\n",
      "41\n",
      "44\n",
      "47\n"
     ]
    }
   ],
   "source": [
    "#for run a range we need to use a loop\n",
    "for i in range(5,50,3):\n",
    "    print(i) "
   ]
  },
  {
   "cell_type": "markdown",
   "id": "13e02b20-af07-423d-a1d6-390c2ac50042",
   "metadata": {},
   "source": [
    "# Modules"
   ]
  },
  {
   "cell_type": "markdown",
   "id": "6306cbec-3fe3-40d8-b764-5d0d046c55aa",
   "metadata": {},
   "source": [
    "A module is a file consisting of Python code. A module can contain functions, classes, variables and also runnable code.\n",
    "\n",
    "We can get access to a Python module with the \"import\" statement"
   ]
  },
  {
   "cell_type": "markdown",
   "id": "6a151f5c-1a3b-43bd-8fa4-6fadfd40b915",
   "metadata": {},
   "source": [
    "### OS Module"
   ]
  },
  {
   "cell_type": "markdown",
   "id": "7ebf3469-806e-4bb5-b3d2-111737effe82",
   "metadata": {},
   "source": [
    "The OS module comes with Python. It provides functions for interacting with the operating system"
   ]
  },
  {
   "cell_type": "code",
   "execution_count": 47,
   "id": "576a2def-98d6-4e50-854e-91d585c2ba93",
   "metadata": {},
   "outputs": [],
   "source": [
    "import os"
   ]
  },
  {
   "cell_type": "code",
   "execution_count": 49,
   "id": "aa59280c-481d-4804-a2b6-b78c13976339",
   "metadata": {},
   "outputs": [
    {
     "data": {
      "text/plain": [
       "'C:\\\\Users\\\\hanns\\\\OneDrive\\\\Documentos\\\\Data science code\\\\Data Analysis with Python for Excel Users'"
      ]
     },
     "execution_count": 49,
     "metadata": {},
     "output_type": "execute_result"
    }
   ],
   "source": [
    "#get the current dirrectory were we are working\n",
    "os.getcwd()"
   ]
  },
  {
   "cell_type": "code",
   "execution_count": 50,
   "id": "e11a5b5a-e86d-41cb-8271-5ae3871e8738",
   "metadata": {},
   "outputs": [
    {
     "data": {
      "text/plain": [
       "['#1 Testing.ipynb', '.git', '.ipynb_checkpoints', 'test.md', 'untitled.txt']"
      ]
     },
     "execution_count": 50,
     "metadata": {},
     "output_type": "execute_result"
    }
   ],
   "source": [
    "#list all the elements that we have in the directory\n",
    "os.listdir()"
   ]
  },
  {
   "cell_type": "code",
   "execution_count": 55,
   "id": "91b3c0f6-bae3-41fe-a8c8-1bcc4a99385d",
   "metadata": {},
   "outputs": [
    {
     "ename": "FileExistsError",
     "evalue": "[WinError 183] Cannot create a file when that file already exists: 'New Folder'",
     "output_type": "error",
     "traceback": [
      "\u001b[1;31m---------------------------------------------------------------------------\u001b[0m",
      "\u001b[1;31mFileExistsError\u001b[0m                           Traceback (most recent call last)",
      "\u001b[1;32m~\\AppData\\Local\\Temp/ipykernel_12004/400832521.py\u001b[0m in \u001b[0;36m<module>\u001b[1;34m\u001b[0m\n\u001b[0;32m      1\u001b[0m \u001b[1;31m#we can create a new folder\u001b[0m\u001b[1;33m\u001b[0m\u001b[1;33m\u001b[0m\u001b[0m\n\u001b[1;32m----> 2\u001b[1;33m \u001b[0mos\u001b[0m\u001b[1;33m.\u001b[0m\u001b[0mmakedirs\u001b[0m\u001b[1;33m(\u001b[0m\u001b[1;34m'New Folder'\u001b[0m\u001b[1;33m)\u001b[0m\u001b[1;33m\u001b[0m\u001b[1;33m\u001b[0m\u001b[0m\n\u001b[0m\u001b[0;32m      3\u001b[0m \u001b[1;31m# if its already created this will give us an error\u001b[0m\u001b[1;33m\u001b[0m\u001b[1;33m\u001b[0m\u001b[0m\n",
      "\u001b[1;32m~\\anaconda3\\lib\\os.py\u001b[0m in \u001b[0;36mmakedirs\u001b[1;34m(name, mode, exist_ok)\u001b[0m\n\u001b[0;32m    223\u001b[0m             \u001b[1;32mreturn\u001b[0m\u001b[1;33m\u001b[0m\u001b[1;33m\u001b[0m\u001b[0m\n\u001b[0;32m    224\u001b[0m     \u001b[1;32mtry\u001b[0m\u001b[1;33m:\u001b[0m\u001b[1;33m\u001b[0m\u001b[1;33m\u001b[0m\u001b[0m\n\u001b[1;32m--> 225\u001b[1;33m         \u001b[0mmkdir\u001b[0m\u001b[1;33m(\u001b[0m\u001b[0mname\u001b[0m\u001b[1;33m,\u001b[0m \u001b[0mmode\u001b[0m\u001b[1;33m)\u001b[0m\u001b[1;33m\u001b[0m\u001b[1;33m\u001b[0m\u001b[0m\n\u001b[0m\u001b[0;32m    226\u001b[0m     \u001b[1;32mexcept\u001b[0m \u001b[0mOSError\u001b[0m\u001b[1;33m:\u001b[0m\u001b[1;33m\u001b[0m\u001b[1;33m\u001b[0m\u001b[0m\n\u001b[0;32m    227\u001b[0m         \u001b[1;31m# Cannot rely on checking for EEXIST, since the operating system\u001b[0m\u001b[1;33m\u001b[0m\u001b[1;33m\u001b[0m\u001b[0m\n",
      "\u001b[1;31mFileExistsError\u001b[0m: [WinError 183] Cannot create a file when that file already exists: 'New Folder'"
     ]
    }
   ],
   "source": [
    "#we can create a new folder\n",
    "os.makedirs('New Folder')\n",
    "# if its already created this will give us an error"
   ]
  },
  {
   "cell_type": "code",
   "execution_count": 56,
   "id": "eff56c96-8714-4b6d-9a45-e8690655b187",
   "metadata": {},
   "outputs": [
    {
     "data": {
      "text/plain": [
       "['#1 Testing.ipynb',\n",
       " '.git',\n",
       " '.ipynb_checkpoints',\n",
       " 'New Folder',\n",
       " 'test.md',\n",
       " 'untitled.txt']"
      ]
     },
     "execution_count": 56,
     "metadata": {},
     "output_type": "execute_result"
    }
   ],
   "source": [
    "os.listdir()"
   ]
  }
 ],
 "metadata": {
  "kernelspec": {
   "display_name": "Python 3 (ipykernel)",
   "language": "python",
   "name": "python3"
  },
  "language_info": {
   "codemirror_mode": {
    "name": "ipython",
    "version": 3
   },
   "file_extension": ".py",
   "mimetype": "text/x-python",
   "name": "python",
   "nbconvert_exporter": "python",
   "pygments_lexer": "ipython3",
   "version": "3.9.7"
  }
 },
 "nbformat": 4,
 "nbformat_minor": 5
}
